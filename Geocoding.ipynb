{
 "cells": [
  {
   "cell_type": "markdown",
   "source": [
    "## List of resources\r\n",
    "- https://mysejahtera.malaysia.gov.my/healthfacilities/\r\n",
    "- https://www.moh.gov.my/index.php/database_stores/store_view/3\r\n",
    "- https://medicalprac.moh.gov.my/v2/modules/mastop_publish/?tac=SENARAI_KLINIK_PERUBATAN_SWASTA\r\n",
    "- https://www.vaksincovid.gov.my/json/ppv.json\r\n",
    "- https://fh.moh.gov.my/v3/index.php/direktori/direktori-klinik/perak/klinik-kesihatan/"
   ],
   "metadata": {}
  },
  {
   "cell_type": "markdown",
   "source": [
    "- https://www.codestudyblog.com/cnb11/1125112259.html\r\n",
    "- https://towardsdatascience.com/google-maps-feature-extraction-with-selenium-faa2b97b29af\r\n",
    "- https://towardsdatascience.com/scraping-google-maps-reviews-in-python-2b153c655fc2\r\n",
    "- https://selenium-python.readthedocs.io/index.html\r\n",
    "- https://www.bestproxyreviews.com/google-map-scrapers/\r\n",
    "- https://medium.com/swlh/scraping-google-maps-using-selenium-3cec08eb6a92\r\n",
    "- https://stackoverflow.com/questions/50466238/how-to-bypass-google-recaptcha-for-testing-using-selenium"
   ],
   "metadata": {}
  },
  {
   "cell_type": "code",
   "execution_count": 1,
   "source": [
    "import requests\r\n",
    "from bs4 import BeautifulSoup\r\n",
    "import concurrent.futures\r\n",
    "from geopy.geocoders import Nominatim\r\n",
    "import json\r\n",
    "import pandas as pd\r\n",
    "from collections import OrderedDict\r\n",
    "from geopy.geocoders import Nominatim\r\n",
    "import csv\r\n",
    "from selenium import webdriver\r\n",
    "from selenium.webdriver.common.keys import Keys\r\n",
    "from selenium.webdriver.support.ui import WebDriverWait\r\n",
    "from selenium.webdriver.support import expected_conditions as EC\r\n",
    "from selenium.webdriver.common.by import By\r\n",
    "import time\r\n",
    "import random  \r\n",
    "import string\r\n",
    "import re\r\n",
    "from tqdm import tqdm\r\n",
    "import numpy as np"
   ],
   "outputs": [],
   "metadata": {}
  },
  {
   "cell_type": "markdown",
   "source": [
    "## Test rate limit"
   ],
   "metadata": {}
  },
  {
   "cell_type": "code",
   "execution_count": 17,
   "source": [
    "class GMap_dump_load(object):\r\n",
    "    def __init__(self, old_url):\r\n",
    "        self.old_url = old_url\r\n",
    "\r\n",
    "    def __call__(self, driver):\r\n",
    "        url = driver.current_url\r\n",
    "        if url != old_url:\r\n",
    "            return True\r\n",
    "        else:\r\n",
    "            return False"
   ],
   "outputs": [],
   "metadata": {}
  },
  {
   "cell_type": "code",
   "execution_count": 7,
   "source": [
    "try:\r\n",
    "    driver.close()\r\n",
    "except:\r\n",
    "    pass\r\n",
    "\r\n",
    "count = 0\r\n",
    "driver = webdriver.Firefox(executable_path=r'D:\\Program Files\\Geckodriver\\geckodriver.exe')\r\n",
    "driver.get(\"https://www.google.com.my/maps/search/a\")"
   ],
   "outputs": [],
   "metadata": {}
  },
  {
   "cell_type": "code",
   "execution_count": 24,
   "source": [
    "start = time.time()\r\n",
    "while(True):\r\n",
    "    try:\r\n",
    "        old_url = driver.current_url\r\n",
    "        words = ''.join((random.choice(string.ascii_lowercase) for x in range(8)))\r\n",
    "        count+=1\r\n",
    "        searchbox = driver.find_element_by_xpath('//*[@id=\"searchboxinput\"]')\r\n",
    "        searchbox.clear()\r\n",
    "        searchbox.send_keys(words)\r\n",
    "        searchbox.send_keys(Keys.RETURN)\r\n",
    "        # wait = WebDriverWait(driver, 5)\r\n",
    "        # element = wait.until(GMap_dump_load(old_url))\r\n",
    "        time.sleep(3)  \r\n",
    "    except Exception as e:\r\n",
    "        print(\"{0}\\nCount: {1}\".format(e, count))\r\n",
    "        end = time.time()\r\n",
    "        print(end - start)\r\n",
    "        print(old_url)\r\n",
    "        print(driver.current_url)\r\n",
    "        break"
   ],
   "outputs": [
    {
     "output_type": "error",
     "ename": "KeyboardInterrupt",
     "evalue": "",
     "traceback": [
      "\u001b[1;31m---------------------------------------------------------------------------\u001b[0m",
      "\u001b[1;31mKeyboardInterrupt\u001b[0m                         Traceback (most recent call last)",
      "\u001b[1;32mD:\\Users\\TING\\AppData\\Local\\Temp/ipykernel_17220/856146470.py\u001b[0m in \u001b[0;36m<module>\u001b[1;34m\u001b[0m\n\u001b[0;32m     11\u001b[0m         \u001b[1;31m# wait = WebDriverWait(driver, 5)\u001b[0m\u001b[1;33m\u001b[0m\u001b[1;33m\u001b[0m\u001b[1;33m\u001b[0m\u001b[0m\n\u001b[0;32m     12\u001b[0m         \u001b[1;31m# element = wait.until(GMap_dump_load(old_url))\u001b[0m\u001b[1;33m\u001b[0m\u001b[1;33m\u001b[0m\u001b[1;33m\u001b[0m\u001b[0m\n\u001b[1;32m---> 13\u001b[1;33m         \u001b[0mtime\u001b[0m\u001b[1;33m.\u001b[0m\u001b[0msleep\u001b[0m\u001b[1;33m(\u001b[0m\u001b[1;36m3\u001b[0m\u001b[1;33m)\u001b[0m\u001b[1;33m\u001b[0m\u001b[1;33m\u001b[0m\u001b[0m\n\u001b[0m\u001b[0;32m     14\u001b[0m     \u001b[1;32mexcept\u001b[0m \u001b[0mException\u001b[0m \u001b[1;32mas\u001b[0m \u001b[0me\u001b[0m\u001b[1;33m:\u001b[0m\u001b[1;33m\u001b[0m\u001b[1;33m\u001b[0m\u001b[0m\n\u001b[0;32m     15\u001b[0m         \u001b[0mprint\u001b[0m\u001b[1;33m(\u001b[0m\u001b[1;34m\"{0}\\nCount: {1}\"\u001b[0m\u001b[1;33m.\u001b[0m\u001b[0mformat\u001b[0m\u001b[1;33m(\u001b[0m\u001b[0me\u001b[0m\u001b[1;33m,\u001b[0m \u001b[0mcount\u001b[0m\u001b[1;33m)\u001b[0m\u001b[1;33m)\u001b[0m\u001b[1;33m\u001b[0m\u001b[1;33m\u001b[0m\u001b[0m\n",
      "\u001b[1;31mKeyboardInterrupt\u001b[0m: "
     ]
    }
   ],
   "metadata": {}
  },
  {
   "cell_type": "markdown",
   "source": [
    "## Trial (using concurrent)"
   ],
   "metadata": {}
  },
  {
   "cell_type": "code",
   "execution_count": 14,
   "source": [
    "files = [\r\n",
    "    \"A) Senarai Klinik Perubatan Swasta Berdaftar Yang Boleh Menjalankan Saringan COVID-19 Dalam Kawasan Premis\",\r\n",
    "    \"B) Senarai Hospital Swasta Berlesen Yang Boleh Menjalankan Saringan COVID-19 Di Dalam Kawasan Premis\",\r\n",
    "    \"hospital_data\",\r\n",
    "    \"Klinik 1Malaysia\",\r\n",
    "    \"Klinik Desa\",\r\n",
    "    \"Klinik Kesihatan Kerajaan\",\r\n",
    "    \"Klinik Kesihatan Yang Ada Kerjasama Dengan Wakil Komuniti 2017\",\r\n",
    "    \"Lokasi Klinik Kesihatan Swasta di Pulau Pinang\",\r\n",
    "    \"Lokasi Pusat Kesihatan Awam di Negeri Pulau Pinang 2018\",\r\n",
    "    \"Senarai Klinik Ibu Dan Anak Mengikut Negeri Dan Daerah\",\r\n",
    "    \"VAC\",\r\n",
    "]"
   ],
   "outputs": [],
   "metadata": {}
  },
  {
   "cell_type": "code",
   "execution_count": 25,
   "source": [
    "pd_list = [pd.read_csv(f\"CSV/{file}.csv\").replace(np.nan, '', regex=True) for file in files]"
   ],
   "outputs": [],
   "metadata": {}
  },
  {
   "cell_type": "code",
   "execution_count": 18,
   "source": [
    "try:\r\n",
    "    driver.close()\r\n",
    "except Exception as e:\r\n",
    "    print(e)"
   ],
   "outputs": [
    {
     "output_type": "stream",
     "name": "stdout",
     "text": [
      "Message: Failed to decode response from marionette\n",
      "\n"
     ]
    }
   ],
   "metadata": {}
  },
  {
   "cell_type": "code",
   "execution_count": 4,
   "source": [
    "# initialize\r\n",
    "COOR_PT = re.compile(r\"@([\\d]+[.][\\d]+),([\\d]+[.][\\d]+),\")\r\n",
    "\r\n",
    "driver = webdriver.Firefox()\r\n",
    "driver.get(\"https://www.google.com.my/maps/search/a\")"
   ],
   "outputs": [],
   "metadata": {}
  },
  {
   "cell_type": "code",
   "execution_count": 5,
   "source": [
    "def get_coord(search_text:str):\r\n",
    "    latitude = \"\"\r\n",
    "    longitude = \"\"\r\n",
    "    try:\r\n",
    "        searchbox = driver.find_element_by_xpath('//*[@id=\"searchboxinput\"]')\r\n",
    "        searchbox.clear()\r\n",
    "        searchbox.send_keys(search_text)\r\n",
    "        searchbox.send_keys(Keys.RETURN)\r\n",
    "        time.sleep(2.5)\r\n",
    "        # checkpoint\r\n",
    "        wait = WebDriverWait(driver, 2)\r\n",
    "        element = wait.until(EC.element_to_be_clickable((By.XPATH,'/html/body/jsl/div[3]/div[10]/div[8]/div/div[1]/div/div/div[4]/div[5]/div/button')))\r\n",
    "\r\n",
    "        zoom_in = driver.find_element_by_xpath('//*[@id=\"widget-zoom-in\"]')\r\n",
    "        # /html/body/jsl/div[3]/div[10]/div[8]/div/div[1]/div/div/div[4]/div[1]/div[3]/div/a\r\n",
    "        # /html/body/jsl/div[3]/div[10]/div[8]/div/div[1]/div/div/div[2]/div[1]/div[1]/div/a\r\n",
    "        for i in range(5):\r\n",
    "            zoom_in.click()\r\n",
    "        results = COOR_PT.findall(driver.current_url)\r\n",
    "        if len(results) > 0:\r\n",
    "            latitude, longitude = results[0]\r\n",
    "    except Exception as e:\r\n",
    "        # print(e)\r\n",
    "        # print(search_text)\r\n",
    "        pass\r\n",
    "    \r\n",
    "    return latitude, longitude"
   ],
   "outputs": [],
   "metadata": {}
  },
  {
   "cell_type": "code",
   "execution_count": 35,
   "source": [
    "miss = []\r\n",
    "sel = 10\r\n",
    "offset = 0.0001368\r\n",
    "\r\n",
    "# for i in range(len(pd_list[1:2])):\r\n",
    "df = pd_list[sel]\r\n",
    "for j in tqdm(range(len(df[:]))):\r\n",
    "    row = df.iloc[j]\r\n",
    "    search_text = row.at[\"Name\"]\r\n",
    "    latitude = str(row.at[\"Latitude\"])\r\n",
    "    longitude = str(row.at[\"Longitude\"])\r\n",
    "    if len(latitude) < 1:\r\n",
    "        latitude, longitude = get_coord(search_text)\r\n",
    "        if len(latitude) > 0:\r\n",
    "            df.at[j, \"Latitude\"] = latitude\r\n",
    "            df.at[j, \"Longitude\"] = str(float(longitude) + offset)\r\n",
    "        else:\r\n",
    "            miss.append((i, j, row.at[\"Name\"]))\r\n",
    "    else:\r\n",
    "        continue\r\n",
    "\r\n",
    "# pd_list[i] = df\r\n",
    "\r\n",
    "print(len(miss))\r\n",
    "df.to_csv(\r\n",
    "    \"Located CSV/{0}.csv\".format(files[sel]),\r\n",
    "    quoting=csv.QUOTE_NONNUMERIC,\r\n",
    "    escapechar=\"\\\\\",\r\n",
    "    doublequote=False,\r\n",
    "    index=False)"
   ],
   "outputs": [
    {
     "output_type": "stream",
     "name": "stderr",
     "text": [
      "100%|██████████| 672/672 [23:37<00:00,  2.11s/it]"
     ]
    },
    {
     "output_type": "stream",
     "name": "stdout",
     "text": [
      "40\n"
     ]
    },
    {
     "output_type": "stream",
     "name": "stderr",
     "text": [
      "\n"
     ]
    }
   ],
   "metadata": {}
  },
  {
   "cell_type": "code",
   "execution_count": 24,
   "source": [
    "df.head(n=3)"
   ],
   "outputs": [
    {
     "output_type": "execute_result",
     "data": {
      "text/html": [
       "<div>\n",
       "<style scoped>\n",
       "    .dataframe tbody tr th:only-of-type {\n",
       "        vertical-align: middle;\n",
       "    }\n",
       "\n",
       "    .dataframe tbody tr th {\n",
       "        vertical-align: top;\n",
       "    }\n",
       "\n",
       "    .dataframe thead th {\n",
       "        text-align: right;\n",
       "    }\n",
       "</style>\n",
       "<table border=\"1\" class=\"dataframe\">\n",
       "  <thead>\n",
       "    <tr style=\"text-align: right;\">\n",
       "      <th></th>\n",
       "      <th>index</th>\n",
       "      <th>Name</th>\n",
       "      <th>Clinic</th>\n",
       "      <th>Hospital</th>\n",
       "      <th>ST</th>\n",
       "      <th>VAC</th>\n",
       "      <th>Latitude</th>\n",
       "      <th>Longitude</th>\n",
       "      <th>Address</th>\n",
       "      <th>Contact</th>\n",
       "      <th>State</th>\n",
       "    </tr>\n",
       "  </thead>\n",
       "  <tbody>\n",
       "    <tr>\n",
       "      <th>0</th>\n",
       "      <td>0</td>\n",
       "      <td>Gleneagles Medini</td>\n",
       "      <td>0</td>\n",
       "      <td>1</td>\n",
       "      <td>1</td>\n",
       "      <td>0</td>\n",
       "      <td>1.4259169</td>\n",
       "      <td>103.63692540000001</td>\n",
       "      <td>No. 2, Jalan Medini Utara 4, Medini Iskandar, ...</td>\n",
       "      <td></td>\n",
       "      <td>Johor</td>\n",
       "    </tr>\n",
       "    <tr>\n",
       "      <th>1</th>\n",
       "      <td>1</td>\n",
       "      <td>Kpjbandarmaharani Specialist Hospital</td>\n",
       "      <td>0</td>\n",
       "      <td>1</td>\n",
       "      <td>1</td>\n",
       "      <td>0</td>\n",
       "      <td>2.035902</td>\n",
       "      <td>102.56726</td>\n",
       "      <td>No. 73-1, Jalan Stadium, 84000 Muar, Johor</td>\n",
       "      <td></td>\n",
       "      <td>Johor</td>\n",
       "    </tr>\n",
       "    <tr>\n",
       "      <th>2</th>\n",
       "      <td>2</td>\n",
       "      <td>Kpjbandardato’Onn Specialist Hospital</td>\n",
       "      <td>0</td>\n",
       "      <td>1</td>\n",
       "      <td>1</td>\n",
       "      <td>0</td>\n",
       "      <td>1.5440191</td>\n",
       "      <td>103.74016820000001</td>\n",
       "      <td>Lot Ptd 163189, Jalan Bukit Mutiara, Taman Buk...</td>\n",
       "      <td></td>\n",
       "      <td>Johor</td>\n",
       "    </tr>\n",
       "  </tbody>\n",
       "</table>\n",
       "</div>"
      ],
      "text/plain": [
       "   index                                   Name  Clinic  Hospital  ST  VAC  \\\n",
       "0      0                      Gleneagles Medini       0         1   1    0   \n",
       "1      1  Kpjbandarmaharani Specialist Hospital       0         1   1    0   \n",
       "2      2  Kpjbandardato’Onn Specialist Hospital       0         1   1    0   \n",
       "\n",
       "    Latitude           Longitude  \\\n",
       "0  1.4259169  103.63692540000001   \n",
       "1   2.035902           102.56726   \n",
       "2  1.5440191  103.74016820000001   \n",
       "\n",
       "                                             Address Contact  State  \n",
       "0  No. 2, Jalan Medini Utara 4, Medini Iskandar, ...          Johor  \n",
       "1         No. 73-1, Jalan Stadium, 84000 Muar, Johor          Johor  \n",
       "2  Lot Ptd 163189, Jalan Bukit Mutiara, Taman Buk...          Johor  "
      ]
     },
     "metadata": {},
     "execution_count": 24
    }
   ],
   "metadata": {}
  },
  {
   "cell_type": "code",
   "execution_count": 10,
   "source": [
    "pd_list[0].to_csv(\r\n",
    "    \"Located CSV/{0}.csv\".format(files[0]),\r\n",
    "    quoting=csv.QUOTE_NONNUMERIC,\r\n",
    "    escapechar=\"\\\\\",\r\n",
    "    doublequote=False,\r\n",
    "    index=False)"
   ],
   "outputs": [],
   "metadata": {}
  },
  {
   "cell_type": "code",
   "execution_count": 82,
   "source": [
    "COOR_PT = re.compile(r\"@([\\d]+[.][\\d]+),([\\d]+[.][\\d]+),\")\r\n",
    "\r\n",
    "coords = []\r\n",
    "\r\n",
    "for i in range(len(search_texts[:])):\r\n",
    "    try:\r\n",
    "        searchbox = driver.find_element_by_xpath('//*[@id=\"searchboxinput\"]')\r\n",
    "        searchbox.clear()\r\n",
    "        searchbox.send_keys(search_texts[i])\r\n",
    "        searchbox.send_keys(Keys.RETURN)\r\n",
    "        time.sleep(3)\r\n",
    "        try:\r\n",
    "            wait = WebDriverWait(driver, 5)\r\n",
    "            element = wait.until(EC.element_to_be_clickable((By.XPATH,'/html/body/jsl/div[3]/div[10]/div[8]/div/div[1]/div/div/div[4]/div[5]/div/button')))\r\n",
    "        except Exception as e:\r\n",
    "            cards = driver.find_elements_by_xpath('/html/body/jsl/div[3]/div[10]/div[8]/div/div[1]/div/div/div[4]/div[1]/div[3]/div/a')\r\n",
    "            if len(cards) > 0:\r\n",
    "                cards[0].click()\r\n",
    "                time.sleep(1)\r\n",
    "            else:\r\n",
    "                raise e\r\n",
    "\r\n",
    "        zoom_in = driver.find_element_by_xpath('//*[@id=\"widget-zoom-in\"]')\r\n",
    "        # /html/body/jsl/div[3]/div[10]/div[8]/div/div[1]/div/div/div[4]/div[1]/div[3]/div/a\r\n",
    "        # /html/body/jsl/div[3]/div[10]/div[8]/div/div[1]/div/div/div[2]/div[1]/div[1]/div/a\r\n",
    "        for i in range(5):\r\n",
    "            zoom_in.click()\r\n",
    "        results = COOR_PT.findall(driver.current_url)\r\n",
    "        if len(results) > 0:\r\n",
    "            coords.append(results[0])\r\n",
    "    except Exception as e:\r\n",
    "        print(e)\r\n",
    "        print(f\"Stop: {i}\")\r\n",
    "        print(search_texts[i])\r\n",
    "        break"
   ],
   "outputs": [
    {
     "output_type": "stream",
     "name": "stdout",
     "text": [
      "Message: \n",
      "\n",
      "Stop: 32\n",
      "Hospital Jelebu\n"
     ]
    }
   ],
   "metadata": {}
  },
  {
   "cell_type": "markdown",
   "source": [
    "## Others"
   ],
   "metadata": {}
  },
  {
   "cell_type": "code",
   "execution_count": 4,
   "source": [
    "driver.close()"
   ],
   "outputs": [],
   "metadata": {}
  },
  {
   "cell_type": "code",
   "execution_count": 38,
   "source": [
    "options = webdriver.FirefoxOptions()\r\n",
    "options.add_argument('user-agent={0}'.format('MQQBrowser/26 Mozilla/5.0 (Linux; U; Android 2.3.7; zh-cn; MB200 Build/GRJ22; CyanogenMod-7) AppleWebKit/533.1 (KHTML, like Gecko) Version/4.0 Mobile Safari/533.1'))\r\n",
    "# options.add_argument('--no-proxy-server')\r\n",
    "# options.add_argument(\"--proxy-server='direct://'\")\r\n",
    "# options.add_argument(\"--proxy-bypass-list=*\")\r\n",
    "options.headless = True\r\n",
    "# options.add_experimental_option(\"prefs\", {\"profile.managed_default_content_settings.images\": 2})\r\n",
    "driver = webdriver.Firefox(executable_path=r'D:\\Program Files\\Geckodriver\\geckodriver.exe', options=options)\r\n",
    "driver.get(\"http://www.python.org\")"
   ],
   "outputs": [],
   "metadata": {}
  }
 ],
 "metadata": {
  "orig_nbformat": 4,
  "language_info": {
   "name": "python",
   "version": "3.8.10",
   "mimetype": "text/x-python",
   "codemirror_mode": {
    "name": "ipython",
    "version": 3
   },
   "pygments_lexer": "ipython3",
   "nbconvert_exporter": "python",
   "file_extension": ".py"
  },
  "kernelspec": {
   "name": "python3",
   "display_name": "Python 3.8.10 64-bit ('venv': venv)"
  },
  "interpreter": {
   "hash": "b06cac8c9bdc12f521841fa75398112ea5c4dbbea7c5b9adfb1e2a1f82980fb4"
  }
 },
 "nbformat": 4,
 "nbformat_minor": 2
}