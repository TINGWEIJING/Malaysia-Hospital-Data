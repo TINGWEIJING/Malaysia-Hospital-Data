{
 "cells": [
  {
   "cell_type": "code",
   "execution_count": 1,
   "source": [
    "import requests\r\n",
    "from bs4 import BeautifulSoup\r\n",
    "import concurrent.futures\r\n",
    "from geopy.geocoders import Nominatim\r\n",
    "import json\r\n",
    "import pandas as pd\r\n",
    "from collections import OrderedDict\r\n",
    "from geopy.geocoders import Nominatim\r\n",
    "import csv\r\n",
    "from selenium import webdriver\r\n",
    "from selenium.webdriver.common.keys import Keys\r\n",
    "from selenium.webdriver.support.ui import WebDriverWait, Select\r\n",
    "from selenium.webdriver.support import expected_conditions as EC\r\n",
    "from selenium.webdriver.common.by import By\r\n",
    "import time\r\n",
    "import random  \r\n",
    "import string\r\n",
    "import re\r\n",
    "from tqdm import tqdm\r\n",
    "import numpy as np"
   ],
   "outputs": [],
   "metadata": {}
  },
  {
   "cell_type": "code",
   "execution_count": 2,
   "source": [
    "try:\r\n",
    "    driver.close()\r\n",
    "except:\r\n",
    "    pass\r\n",
    "\r\n",
    "count = 0\r\n",
    "driver = webdriver.Firefox(executable_path=r'D:\\Program Files\\Geckodriver\\geckodriver.exe')\r\n",
    "driver.get(\"https://admin.ummc.staging.cosmos.care/\")"
   ],
   "outputs": [],
   "metadata": {}
  },
  {
   "cell_type": "code",
   "execution_count": 3,
   "source": [
    "def create_form_builder_user():\r\n",
    "    name = driver.find_element_by_xpath('/html/body/div/div[2]/main/div/div/form/div[1]/div/div/input')\r\n",
    "    name.clear()\r\n",
    "    name.send_keys(\"Ali\")\r\n",
    "\r\n",
    "    phone = driver.find_element_by_xpath('/html/body/div/div[2]/main/div/div/form/div[3]/div/div/input')\r\n",
    "    phone.clear()\r\n",
    "    phone.send_keys(\"60104928923\")\r\n",
    "\r\n",
    "    email = driver.find_element_by_xpath('/html/body/div/div[2]/main/div/div/form/div[4]/div/div/input')\r\n",
    "    email.clear()\r\n",
    "    email.send_keys(\"ali@gmail.com\")\r\n",
    "\r\n",
    "    password = driver.find_element_by_xpath('/html/body/div/div[2]/main/div/div/form/div[5]/div/div/input')\r\n",
    "    password.clear()\r\n",
    "    password.send_keys(\"alialiali\")\r\n"
   ],
   "outputs": [],
   "metadata": {}
  },
  {
   "cell_type": "code",
   "execution_count": 5,
   "source": [
    "def patient_1():\r\n",
    "    passport = driver.find_element_by_xpath('/html/body/div/div[2]/main/div/div/form/div[1]/div/div/input')\r\n",
    "    passport.clear()\r\n",
    "    passport.send_keys(\"001012045678\")\r\n",
    "\r\n",
    "    name = driver.find_element_by_xpath('/html/body/div/div[2]/main/div/div/form/div[2]/div/div/input')\r\n",
    "    name.clear()\r\n",
    "    name.send_keys(\"Tan Xiong Wang\")\r\n",
    "\r\n",
    "    dropdowns = driver.find_elements_by_xpath('//*[@id=\"demo-customized-select\"]')\r\n",
    "    print(len(dropdowns))\r\n",
    "    form, status, p_type, language = dropdowns\r\n",
    "    # form.click()\r\n",
    "\r\n",
    "    # wait = WebDriverWait(driver, 2)\r\n",
    "    # element = wait.until(EC.element_to_be_clickable((By.XPATH,'/html/body/div[2]/div[3]/ul/li[1]')))\r\n",
    "\r\n",
    "    # # /html/body/div[2]/div[3]/ul/li[1]\r\n",
    "    # form_opt = driver.find_elements_by_xpath('/html/body/div[2]/div[3]/ul/li[1]')\r\n",
    "    # form_opt.click()\r\n",
    "\r\n",
    "    alt_contact = driver.find_element_by_xpath('/html/body/div/div[2]/main/div/div/form/div[6]/div/div/input')\r\n",
    "    alt_contact.clear()\r\n",
    "    alt_contact.send_keys(\"-\")"
   ],
   "outputs": [],
   "metadata": {}
  },
  {
   "cell_type": "code",
   "execution_count": 4,
   "source": [
    "def patient_2():\r\n",
    "    passport = driver.find_element_by_xpath('/html/body/div/div[2]/main/div/div/form/div[1]/div/div/input')\r\n",
    "    passport.clear()\r\n",
    "    passport.send_keys(\"011012045679\")\r\n",
    "\r\n",
    "    name = driver.find_element_by_xpath('/html/body/div/div[2]/main/div/div/form/div[2]/div/div/input')\r\n",
    "    name.clear()\r\n",
    "    name.send_keys(\"Tan Xiong Loong\")\r\n",
    "\r\n",
    "    dropdowns = driver.find_elements_by_xpath('//*[@id=\"demo-customized-select\"]')\r\n",
    "    print(len(dropdowns))\r\n",
    "    form, status, p_type, language = dropdowns\r\n",
    "\r\n",
    "    phone = driver.find_element_by_xpath('/html/body/div/div[2]/main/div/div/form/div[5]/div/div/input')\r\n",
    "    phone.clear()\r\n",
    "    phone.send_keys(\"601264928923\")\r\n",
    "\r\n",
    "    alt_contact = driver.find_element_by_xpath('/html/body/div/div[2]/main/div/div/form/div[6]/div/div/input')\r\n",
    "    alt_contact.clear()\r\n",
    "    alt_contact.send_keys(\"-\")\r\n"
   ],
   "outputs": [],
   "metadata": {}
  },
  {
   "cell_type": "markdown",
   "source": [
    "# Main"
   ],
   "metadata": {}
  },
  {
   "cell_type": "code",
   "execution_count": 18,
   "source": [
    "create_form_builder_user()"
   ],
   "outputs": [],
   "metadata": {}
  },
  {
   "cell_type": "code",
   "execution_count": 19,
   "source": [
    "patient_1()"
   ],
   "outputs": [
    {
     "output_type": "stream",
     "name": "stdout",
     "text": [
      "4\n"
     ]
    }
   ],
   "metadata": {}
  },
  {
   "cell_type": "code",
   "execution_count": 20,
   "source": [
    "patient_2()"
   ],
   "outputs": [
    {
     "output_type": "stream",
     "name": "stdout",
     "text": [
      "4\n"
     ]
    }
   ],
   "metadata": {}
  }
 ],
 "metadata": {
  "orig_nbformat": 4,
  "language_info": {
   "name": "python",
   "version": "3.8.10",
   "mimetype": "text/x-python",
   "codemirror_mode": {
    "name": "ipython",
    "version": 3
   },
   "pygments_lexer": "ipython3",
   "nbconvert_exporter": "python",
   "file_extension": ".py"
  },
  "kernelspec": {
   "name": "python3",
   "display_name": "Python 3.8.10 64-bit ('venv': venv)"
  },
  "interpreter": {
   "hash": "b06cac8c9bdc12f521841fa75398112ea5c4dbbea7c5b9adfb1e2a1f82980fb4"
  }
 },
 "nbformat": 4,
 "nbformat_minor": 2
}